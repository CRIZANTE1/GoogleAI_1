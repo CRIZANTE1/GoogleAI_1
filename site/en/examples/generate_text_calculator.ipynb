{
  "cells": [
    {
      "cell_type": "markdown",
      "source": [
        "# Using external tools"
      ],
      "metadata": {
        "id": "FS9T8jTqkZWI"
      }
    },
    {
      "cell_type": "markdown",
      "source": [
        "This tutorial shows an exape of using an external tool with the `palm.generate_text` function. The overal plan is:\n",
        "\n",
        "1. Describe a `start` and `end` tag it can use to call the tool.\n",
        "2. Include the `end` tag in the of `stop_sequences` passed to `generate_text`.\n",
        "3. Take the text between the `start` and `end` tags as input to the tool.\n",
        "4. Run the tool and add it's output to the prompt.\n",
        "5. Call `generate_text` again, to have the model continue with the tool's output.\n"
      ],
      "metadata": {
        "id": "D64fjiFDke_P"
      }
    },
    {
      "cell_type": "markdown",
      "source": [
        "## Setup"
      ],
      "metadata": {
        "id": "MRbP4BER4_L9"
      }
    },
    {
      "cell_type": "code",
      "source": [
        "!pip install -q google.generativeai"
      ],
      "metadata": {
        "colab": {
          "base_uri": "https://localhost:8080/"
        },
        "id": "oq3EYtJYBXpG",
        "outputId": "963974c8-b1f3-4937-9bcc-900aa9e661b4"
      },
      "execution_count": 1,
      "outputs": [
        {
          "output_type": "stream",
          "name": "stdout",
          "text": [
            "\u001b[2K     \u001b[90m━━━━━━━━━━━━━━━━━━━━━━━━━━━━━━━━━━━━━━━\u001b[0m \u001b[32m121.5/121.5 kB\u001b[0m \u001b[31m3.4 MB/s\u001b[0m eta \u001b[36m0:00:00\u001b[0m\n",
            "\u001b[2K     \u001b[90m━━━━━━━━━━━━━━━━━━━━━━━━━━━━━━━━━━━━━━━\u001b[0m \u001b[32m113.3/113.3 kB\u001b[0m \u001b[31m6.0 MB/s\u001b[0m eta \u001b[36m0:00:00\u001b[0m\n",
            "\u001b[?25h"
          ]
        }
      ]
    },
    {
      "cell_type": "code",
      "source": [
        "import google.generativeai as palm\n",
        "palm.configure(api_key='YOUR API KEY')\n",
        "\n",
        "from google.api_core import retry\n",
        "\n",
        "@retry.Retry()\n",
        "def generate_text(*args, **kwargs):\n",
        "  return palm.generate_text(*args, **kwargs)\n"
      ],
      "metadata": {
        "id": "h2rFkzdEKHtW"
      },
      "execution_count": 7,
      "outputs": []
    },
    {
      "cell_type": "code",
      "source": [
        "model=\"models/text-bison-001\""
      ],
      "metadata": {
        "id": "PL3XpOnN7Yox"
      },
      "execution_count": 8,
      "outputs": []
    },
    {
      "cell_type": "markdown",
      "source": [
        "## Try to solve the problem directly"
      ],
      "metadata": {
        "id": "zhZJMqsI7K61"
      }
    },
    {
      "cell_type": "markdown",
      "source": [
        "Here's the word problem you're going to solve:"
      ],
      "metadata": {
        "id": "MhjnsEM67Hsh"
      }
    },
    {
      "cell_type": "code",
      "source": [
        "question = \"\"\"\n",
        "I have 77 houses, each with 31 cats.\n",
        "Each cat owns 14 mittens, and 6 hats.\n",
        "Each mitten was knit from 141m of yarn, each hat from 55m.\n",
        "How much yarn was needed to make all the items?\n",
        "\"\"\""
      ],
      "metadata": {
        "id": "1TIekNZ1rrOd"
      },
      "execution_count": 9,
      "outputs": []
    },
    {
      "cell_type": "code",
      "source": [
        "prompt_template = \"\"\"\n",
        "You are an expert at solving word probles. Here's one:\n",
        "\n",
        "{question}\n",
        "\n",
        "Work throught it step by step, and show your work.\n",
        "One step per line.\n",
        "\n",
        "Your solution:\n",
        "\"\"\""
      ],
      "metadata": {
        "id": "OXRjf_hAEV1C"
      },
      "execution_count": 16,
      "outputs": []
    },
    {
      "cell_type": "markdown",
      "source": [
        "Try it as is:"
      ],
      "metadata": {
        "id": "hTJIpg-D7w-3"
      }
    },
    {
      "cell_type": "code",
      "source": [
        "completion = generate_text(\n",
        "    model=model,\n",
        "    prompt=prompt_template.format(question=question),\n",
        "    # The maximum length of the response\n",
        "    max_output_tokens=800,\n",
        ")\n",
        "\n",
        "print(completion.result)"
      ],
      "metadata": {
        "colab": {
          "base_uri": "https://localhost:8080/"
        },
        "id": "IRoDEoU1Bq_6",
        "outputId": "3134c154-f50e-4004-9b47-91bbfcadd51b"
      },
      "execution_count": 17,
      "outputs": [
        {
          "output_type": "stream",
          "name": "stdout",
          "text": [
            "In the houses there are 77 * 31 = 2387 cats.\n",
            "So they need 2387 * 14 = 33418 mittens.\n",
            "And they need 2387 * 6 = 14322 hats.\n",
            "In total they need 33418 * 141 + 14322 * 55 = 5554525m of yarn.\n",
            "The answer: 5554525.\n"
          ]
        }
      ]
    },
    {
      "cell_type": "markdown",
      "source": [
        "Just like that, it's usually incorrect.\n",
        "It generally gets the steps right but the arithmetic wrong.\n",
        "\n",
        "The answer should be:"
      ],
      "metadata": {
        "id": "zG4bukqCIQ4f"
      }
    },
    {
      "cell_type": "code",
      "source": [
        "answer = 77*31*14*141 + 77*31*6*55\n",
        "answer"
      ],
      "metadata": {
        "colab": {
          "base_uri": "https://localhost:8080/"
        },
        "id": "9Jw0L9OoCAHZ",
        "outputId": "40e08932-7c44-4569-e575-aad2681c5bb9"
      },
      "execution_count": 26,
      "outputs": [
        {
          "output_type": "execute_result",
          "data": {
            "text/plain": [
              "5499648"
            ]
          },
          "metadata": {},
          "execution_count": 26
        }
      ]
    },
    {
      "cell_type": "markdown",
      "source": [
        "## Tell the model to use a calculator"
      ],
      "metadata": {
        "id": "IAdE14kV7y0E"
      }
    },
    {
      "cell_type": "markdown",
      "source": [
        "So give the model access to a calculator. You can do that by adding something like this to the prompt:"
      ],
      "metadata": {
        "id": "91LETezvs6LU"
      }
    },
    {
      "cell_type": "code",
      "source": [
        "calc_prompt_template = \"\"\"\n",
        "You are an expert at solving word probles. Here's a question:\n",
        "\n",
        "{question}\n",
        "\n",
        "-------------------\n",
        "\n",
        "When solving this problem, use the calculator for any arithmetic.\n",
        "\n",
        "To use the calculator, put an expression between <calc></calc> tags.\n",
        "The answer will be printed after the </calc> tag.\n",
        "\n",
        "For example: 2 houses  * 8 cats/house = <calc>2 * 8</calc> = 16 cats\n",
        "\n",
        "-------------------\n",
        "\n",
        "Work throught it step by step, and show your work.\n",
        "One step per line.\n",
        "\n",
        "Your solution:\n",
        "\"\"\"\n",
        "\n",
        "calc_prompt = calc_prompt_template.format(question=question)"
      ],
      "metadata": {
        "id": "kjrZYUE7N5N6"
      },
      "execution_count": 19,
      "outputs": []
    },
    {
      "cell_type": "markdown",
      "source": [
        "To give the model access to the output of this \"calculator\", you'll have to pause generation and insert the result. Use the `stop_sequences` argument to stop at the `</calc>` tag:"
      ],
      "metadata": {
        "id": "o2PhgztglJGv"
      }
    },
    {
      "cell_type": "code",
      "source": [
        "completion = generate_text(\n",
        "    model=model,\n",
        "    prompt=calc_prompt,\n",
        "    stop_sequences=[\"</calc>\"],\n",
        "    # The maximum length of the response\n",
        "    max_output_tokens=800,\n",
        "    candidate_count=1,\n",
        ")\n",
        "\n",
        "result = completion.result\n",
        "print(result)"
      ],
      "metadata": {
        "colab": {
          "base_uri": "https://localhost:8080/"
        },
        "id": "7IPLT3yYk07Y",
        "outputId": "13163dbe-a4c5-46a1-ee8c-7acc761b2888"
      },
      "execution_count": 20,
      "outputs": [
        {
          "output_type": "stream",
          "name": "stdout",
          "text": [
            "In each house, there are <calc>31 * 14\n"
          ]
        }
      ]
    },
    {
      "cell_type": "markdown",
      "source": [
        "The `stop_sequence` is not included in the result. Split off the experssion and run it through the calculator, and add it back to the result:"
      ],
      "metadata": {
        "id": "9Ooyb6VOmdIf"
      }
    },
    {
      "cell_type": "code",
      "source": [
        "# Use re to clear units from the calculator expressions\n",
        "import re\n",
        "# Use numexpr since `eval` is unsafe.\n",
        "import numexpr\n",
        "\n",
        "\n",
        "def calculator(result):\n",
        "  result, experssion = result.rsplit('<calc>', 1)\n",
        "\n",
        "  # Strip any units like \"cats / house\"\n",
        "  clean_experssion = re.sub(\"[a-zA-Z]([ /a-zA-Z]*[a-zA-Z])?\",'', experssion)\n",
        "\n",
        "  # `eval` is unsafe use numexpr\n",
        "  result = f\"{result}<calc>{experssion}</calc> = {str(numexpr.evaluate(clean_experssion))}\"\n",
        "  return result"
      ],
      "metadata": {
        "id": "K9Y0Z-Lome0P"
      },
      "execution_count": 21,
      "outputs": []
    },
    {
      "cell_type": "code",
      "source": [
        "print(calculator(result))"
      ],
      "metadata": {
        "colab": {
          "base_uri": "https://localhost:8080/"
        },
        "id": "bSAkZY3B2l9T",
        "outputId": "b6349390-ed86-4122-d090-6f7f79b14781"
      },
      "execution_count": 22,
      "outputs": [
        {
          "output_type": "stream",
          "name": "stdout",
          "text": [
            "In each house, there are <calc>31 * 14</calc> = 434\n"
          ]
        }
      ]
    },
    {
      "cell_type": "markdown",
      "source": [
        "Now append that to the prompt, and run the model again, so it can continue where it left off:"
      ],
      "metadata": {
        "id": "BSwjboF3pz8E"
      }
    },
    {
      "cell_type": "code",
      "source": [
        "continue_prompt=calc_prompt +\"\\n\"+ \"-\"*80 + \"\\n\" + calculator(result)\n",
        "\n",
        "completion = generate_text(\n",
        "    model=model,\n",
        "    prompt=continue_prompt,\n",
        "    stop_sequences=[\"</calc>\"],\n",
        "    # The maximum length of the response\n",
        "    max_output_tokens=800,\n",
        "    candidate_count=1,\n",
        ")\n",
        "\n",
        "print(completion.result)"
      ],
      "metadata": {
        "colab": {
          "base_uri": "https://localhost:8080/"
        },
        "id": "p1Q1rQ1E0XSB",
        "outputId": "b677cd67-8be7-460b-fd1c-a652ff84fbc8"
      },
      "execution_count": 23,
      "outputs": [
        {
          "output_type": "stream",
          "name": "stdout",
          "text": [
            "mittens.\n",
            "In each house, there are <calc>31 * 6\n"
          ]
        }
      ]
    },
    {
      "cell_type": "markdown",
      "source": [
        "That basically works. So run it in a loop to solve the problem:"
      ],
      "metadata": {
        "id": "l-AY4lKu2JB9"
      }
    },
    {
      "cell_type": "code",
      "source": [
        "def solve(question=question):\n",
        "  results = []\n",
        "\n",
        "  for n in range(10):\n",
        "    prompt = calc_prompt_template.format(question=question)\n",
        "\n",
        "    prompt += \" \".join(results)\n",
        "\n",
        "    completion = generate_text(\n",
        "        model=model,\n",
        "        prompt=prompt,\n",
        "        stop_sequences=[\"</calc>\"],\n",
        "        # The maximum length of the response\n",
        "        max_output_tokens=800,\n",
        "    )\n",
        "\n",
        "    result = completion.result\n",
        "    if '<calc>' in result:\n",
        "      result = calculator(result)\n",
        "\n",
        "    results.append(result)\n",
        "    print('-'*40)\n",
        "    print(result)\n",
        "    if str(answer) in result:\n",
        "      break\n",
        "    if \"<calc>\" not in  result:\n",
        "      break\n",
        "\n",
        "  is_good = any(str(answer) in r for r in results)\n",
        "\n",
        "  print(\"*\"*100)\n",
        "  if is_good:\n",
        "    print(\"Success!\")\n",
        "  else:\n",
        "    print(\"Failure!\")\n",
        "  print(\"*\"*100)\n",
        "\n",
        "  return is_good"
      ],
      "metadata": {
        "id": "TyIGLC4D1fF1"
      },
      "execution_count": 27,
      "outputs": []
    },
    {
      "cell_type": "code",
      "source": [
        "solve(question);"
      ],
      "metadata": {
        "colab": {
          "base_uri": "https://localhost:8080/"
        },
        "id": "SBhW2JjF2WbJ",
        "outputId": "c2b410b3-c5b8-46ca-abd6-a8f3c296a728"
      },
      "execution_count": 28,
      "outputs": [
        {
          "output_type": "stream",
          "name": "stdout",
          "text": [
            "----------------------------------------\n",
            "The total number of cats is <calc>77 * 31</calc> = 2387\n",
            "----------------------------------------\n",
            "cats.\n",
            "The total number of mittens is <calc>2387 * 14</calc> = 33418\n",
            "----------------------------------------\n",
            "mittens.\n",
            "The total amount of yarn needed for the mittens is <calc>33418 * 141</calc> = 4711938\n",
            "----------------------------------------\n",
            "m.\n",
            "The total number of hats is <calc>2387 * 6</calc> = 14322\n",
            "----------------------------------------\n",
            "hats.\n",
            " The total amount of yarn needed for the hats is <calc>14322 * 55</calc> = 787710\n",
            "----------------------------------------\n",
            "m.\n",
            "In total, <calc>4711938 + 787710</calc> = 5499648\n",
            "********************************************************************************\n",
            "Success!\n"
          ]
        }
      ]
    },
    {
      "cell_type": "code",
      "source": [
        "import textwrap\n",
        "\n",
        "good = []\n",
        "\n",
        "for n in range(10):\n",
        "  good.append(solve(question))"
      ],
      "metadata": {
        "colab": {
          "base_uri": "https://localhost:8080/"
        },
        "outputId": "21e1fe82-0767-42d4-a89e-37dbdc4f74ea",
        "id": "k5xyLTZbMjuF"
      },
      "execution_count": 29,
      "outputs": [
        {
          "output_type": "stream",
          "name": "stdout",
          "text": [
            "----------------------------------------\n",
            "There are <calc>77 * 31</calc> = 2387\n",
            "----------------------------------------\n",
            "cats.\n",
            "They need <calc>2387 * 14</calc> = 33418\n",
            "----------------------------------------\n",
            "mittens.\n",
            "The mittens need <calc>33418 * 141</calc> = 4711938\n",
            "----------------------------------------\n",
            "m of yarn.\n",
            "They need <calc>2387 * 6</calc> = 14322\n",
            "----------------------------------------\n",
            "hats.\n",
            "The hats need <calc>14322 * 55</calc> = 787710\n",
            "----------------------------------------\n",
            "m of yarn.\n",
            " They need a total of <calc>4711938 + 787710</calc> = 5499648\n",
            "********************************************************************************\n",
            "Success!\n",
            "----------------------------------------\n",
            "There are <calc>77 * 31</calc> = 2387\n",
            "----------------------------------------\n",
            "cats.\n",
            "So for the mittens, we need <calc>2387 * 14</calc> = 33418\n",
            "----------------------------------------\n",
            "mittens.\n",
            "That means we need <calc>33418 * 141</calc> = 4711938\n",
            "----------------------------------------\n",
            "m of yarn for mittens.\n",
            "For the hats, we need <calc>2387 * 6</calc> = 14322\n",
            "----------------------------------------\n",
            "hats.\n",
            "That means we need <calc>14322 * 55</calc> = 787710\n",
            "----------------------------------------\n",
            "m of yarn for hats.\n",
            " In total we need <calc>787710 + 4711938</calc> = 5499648\n",
            "********************************************************************************\n",
            "Success!\n",
            "----------------------------------------\n",
            "In the 77 houses I have <calc>77 * 31</calc> = 2387\n",
            "----------------------------------------\n",
            "cats.\n",
            "They need <calc>2387 * 14</calc> = 33418\n",
            "----------------------------------------\n",
            "mittens.\n",
            "The mittens need <calc>33418 * 141</calc> = 4711938\n",
            "----------------------------------------\n",
            "m of yarn.\n",
            "They need <calc>2387 * 6</calc> = 14322\n",
            "----------------------------------------\n",
            "hats.\n",
            "The hats need <calc>14322 * 55</calc> = 787710\n",
            "----------------------------------------\n",
            "m of yarn.\n",
            " So, in total I need <calc>4711938 + 787710</calc> = 5499648\n",
            "********************************************************************************\n",
            "Success!\n",
            "----------------------------------------\n",
            "The number of cats is <calc>77 * 31</calc> = 2387\n",
            "----------------------------------------\n",
            ". Each cat needs <calc>14 * 141</calc> = 1974\n",
            "----------------------------------------\n",
            "m of yarn for mittens. So we need <calc>1974 * 2387</calc> = 4711938\n",
            "----------------------------------------\n",
            "m of yarn for mittens. Each cat needs <calc>6 * 55</calc> = 330\n",
            "----------------------------------------\n",
            "m of yarn for hats. So we need <calc>330 * 2387</calc> = 787710\n",
            "----------------------------------------\n",
            "m of yarn for hats. So in total we need <calc>4711938 + 787710</calc> = 5499648\n",
            "********************************************************************************\n",
            "Success!\n",
            "----------------------------------------\n",
            "There are <calc>77 * 31</calc> = 2387\n",
            "----------------------------------------\n",
            "cats.\n",
            "Each cat needs <calc>14 * 141</calc> = 1974\n",
            "----------------------------------------\n",
            "yarn for mittens.\n",
            "All cats need <calc>2387 * 1974</calc> = 4711938\n",
            "----------------------------------------\n",
            "yarn for mittens.\n",
            "Each cat needs <calc>6 * 55</calc> = 330\n",
            "----------------------------------------\n",
            "yarn for hats.\n",
            "All cats need <calc>2387 * 330</calc> = 787710\n",
            "----------------------------------------\n",
            "yarn for hats.\n",
            " All in all, you need <calc>4711938 + 787710</calc> = 5499648\n",
            "********************************************************************************\n",
            "Success!\n",
            "----------------------------------------\n",
            "There are <calc>77 * 31</calc> = 2387\n",
            "----------------------------------------\n",
            "cats.\n",
            "Each cat needs <calc>14 + 6</calc> = 20\n",
            "----------------------------------------\n",
            "items.\n",
            "So we need <calc>20 * 2387</calc> = 47740\n",
            "----------------------------------------\n",
            "items in total.\n",
            "Each mitten needs <calc>141</calc> = 141\n",
            "----------------------------------------\n",
            "m of yarn.\n",
            "So all the mittens need <calc>141 * 47740</calc> = 6731340\n",
            "----------------------------------------\n",
            "m of yarn.\n",
            " Each hat needs <calc>55</calc> = 55\n",
            "----------------------------------------\n",
            "m of yarn.\n",
            "So all the hats need <calc>55 * 47740</calc> = 2625700\n",
            "----------------------------------------\n",
            "m of yarn.\n",
            " In total, we need <calc>6731340 + 2625700</calc> = 9357040\n",
            "----------------------------------------\n",
            "m of yarn. There are <calc>77 * 31</calc> = 2387\n",
            "----------------------------------------\n",
            "cats.\n",
            "Each cat needs <calc>14 + 6</calc> = 20\n",
            "********************************************************************************\n",
            "Failure!\n",
            "----------------------------------------\n",
            "There are <calc>77 * 31</calc> = 2387\n",
            "----------------------------------------\n",
            "cats.\n",
            "There are <calc>2387 * 14</calc> = 33418\n",
            "----------------------------------------\n",
            "mittens.\n",
            "There are <calc>2387 * 6</calc> = 14322\n",
            "----------------------------------------\n",
            "hats.\n",
            "There was <calc>141 * 33418</calc> = 4711938\n",
            "----------------------------------------\n",
            "m of yarn needed for mittens.\n",
            "There was <calc>55 * 14322</calc> = 787710\n",
            "----------------------------------------\n",
            "m of yarn needed for hats.\n",
            " So there was <calc>4711938 + 787710</calc> = 5499648\n",
            "********************************************************************************\n",
            "Success!\n",
            "----------------------------------------\n",
            "There are <calc>77 * 31</calc> = 2387\n",
            "----------------------------------------\n",
            "cats in total. \n",
            "They need <calc>2387 * 14</calc> = 33418\n",
            "----------------------------------------\n",
            "mittens. \n",
            "That's <calc>33418 * 141</calc> = 4711938\n",
            "----------------------------------------\n",
            "meters of yarn for mittens. \n",
            "They need <calc>2387 * 6</calc> = 14322\n",
            "----------------------------------------\n",
            "hats. \n",
            "That's <calc>14322 * 55</calc> = 787710\n",
            "----------------------------------------\n",
            "meters of yarn for hats. \n",
            "So, they need <calc>4711938 + 787710</calc> = 5499648\n",
            "********************************************************************************\n",
            "Success!\n",
            "----------------------------------------\n",
            "There are 77 houses * 31 cats / house = <calc>77 * 31</calc> = 2387\n",
            "----------------------------------------\n",
            "cats.\n",
            "So we need <calc>2387 * 14</calc> = 33418\n",
            "----------------------------------------\n",
            "mittens.\n",
            "So we need <calc>33418 * 141</calc> = 4711938\n",
            "----------------------------------------\n",
            "m of yarn for mittens.\n",
            "So we need <calc>2387 * 6</calc> = 14322\n",
            "----------------------------------------\n",
            "hats.\n",
            " So we need <calc>14322 * 55</calc> = 787710\n",
            "----------------------------------------\n",
            "m of yarn for hats.\n",
            "In total, we need <calc>4711938 + 787710</calc> = 5499648\n",
            "********************************************************************************\n",
            "Success!\n",
            "----------------------------------------\n",
            "In total there are 77 houses * 31 cats / house = <calc>77 * 31</calc> = 2387\n",
            "----------------------------------------\n",
            "cats. In total 2387 cats * 14 mittens / cat = <calc>2387 * 14</calc> = 33418\n",
            "----------------------------------------\n",
            "mittens. In total 33418 mittens * 141m / mitten = <calc>33418 * 141</calc> = 4711938\n",
            "----------------------------------------\n",
            "m of yarn for mittens. In total 2387 cats * 6 hats / cat = <calc>2387 * 6</calc> = 14322\n",
            "----------------------------------------\n",
            "hats. In total 14322 hats * 55m / hat = <calc>14322 * 55</calc> = 787710\n",
            "----------------------------------------\n",
            "m of yarn for hats. In total we need 4711938 m of yarn for mittens + 787710 m of yarn for hats = <calc>4711938 + 787710</calc> = 5499648\n",
            "********************************************************************************\n",
            "Success!\n"
          ]
        }
      ]
    },
    {
      "cell_type": "code",
      "source": [
        "import numpy as np\n",
        "np.mean(good)"
      ],
      "metadata": {
        "colab": {
          "base_uri": "https://localhost:8080/"
        },
        "outputId": "c85c48b0-5b96-4e74-8321-c7732faaa093",
        "id": "GoaPvoy-MjuN"
      },
      "execution_count": 30,
      "outputs": [
        {
          "output_type": "execute_result",
          "data": {
            "text/plain": [
              "0.9"
            ]
          },
          "metadata": {},
          "execution_count": 30
        }
      ]
    }
  ],
  "metadata": {
    "colab": {
      "provenance": [],
      "toc_visible": true
    },
    "gpuClass": "standard",
    "kernelspec": {
      "display_name": "Python 3",
      "name": "python3"
    },
    "language_info": {
      "name": "python"
    }
  },
  "nbformat": 4,
  "nbformat_minor": 0
}