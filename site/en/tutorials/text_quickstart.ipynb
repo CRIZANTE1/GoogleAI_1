{
  "cells": [
    {
      "cell_type": "markdown",
      "metadata": {
        "id": "Tce3stUlHN0L"
      },
      "source": [
        "##### Copyright 2023 Google LLC."
      ]
    },
    {
      "cell_type": "code",
      "execution_count": null,
      "metadata": {
        "cellView": "form",
        "id": "tuOe1ymfHZPu"
      },
      "outputs": [],
      "source": [
        "#@title Licensed under the Apache License, Version 2.0 (the \"License\");\n",
        "# you may not use this file except in compliance with the License.\n",
        "# You may obtain a copy of the License at\n",
        "#\n",
        "# https://www.apache.org/licenses/LICENSE-2.0\n",
        "#\n",
        "# Unless required by applicable law or agreed to in writing, software\n",
        "# distributed under the License is distributed on an \"AS IS\" BASIS,\n",
        "# WITHOUT WARRANTIES OR CONDITIONS OF ANY KIND, either express or implied.\n",
        "# See the License for the specific language governing permissions and\n",
        "# limitations under the License."
      ]
    },
    {
      "cell_type": "markdown",
      "metadata": {
        "id": "yeadDkMiISin"
      },
      "source": [
        "# PaLM API Quickstart - Text Edition"
      ]
    },
    {
      "cell_type": "markdown",
      "metadata": {
        "id": "lEXQ3OwKIa-O"
      },
      "source": [
        "<table class=\"tfo-notebook-buttons\" align=\"left\">\n",
        "  <td>\n",
        "    <a target=\"_blank\" href=\"https://colab.research.google.com/github/google/generative-ai-docs/blob/main/site/en/tutorials/text_quickstart.ipynb\"><img src=\"https://www.tensorflow.org/images/colab_logo_32px.png\" />Run in Google Colab</a>\n",
        "  </td>\n",
        "  <td>\n",
        "    <a target=\"_blank\" href=\"https://github.com/google/generative-ai-docs/blob/main/site/en/tutorials/text_quickstart.ipynb\"><img src=\"https://www.tensorflow.org/images/GitHub-Mark-32px.png\" />View source on GitHub</a>\n",
        "  </td>\n",
        "</table>"
      ]
    },
    {
      "cell_type": "markdown",
      "metadata": {
        "id": "Jp_CKyzxUqx6"
      },
      "source": [
        "In this notebook, you'll learn how to get started with the PaLM API, which gives you access to Google's latest large language models. Here, you'll learn how to use the PaLM API's text generation features."
      ]
    },
    {
      "cell_type": "markdown",
      "metadata": {
        "id": "gQnbmB70zqon"
      },
      "source": [
        "## Setup\n",
        "\n",
        "**Note**: At this time, the PaLM API is only available in the US."
      ]
    },
    {
      "cell_type": "markdown",
      "metadata": {
        "id": "gePcZFDdypdP"
      },
      "source": [
        "First, download and install the PaLM API Python library."
      ]
    },
    {
      "cell_type": "code",
      "execution_count": null,
      "metadata": {
        "id": "Mk2d90cCdF4u"
      },
      "outputs": [],
      "source": [
        "!pip install -q google-generativeai"
      ]
    },
    {
      "cell_type": "code",
      "execution_count": null,
      "metadata": {
        "id": "zCm_GdCKYDNm"
      },
      "outputs": [],
      "source": [
        "import pprint\n",
        "import google.generativeai as palm"
      ]
    },
    {
      "cell_type": "markdown",
      "metadata": {
        "id": "taFqmFg-7_PY"
      },
      "source": [
        "### Grab an API Key\n",
        "\n",
        "To get started, you'll need to [create an API key](https://developers.generativeai.google/tutorials/setup)."
      ]
    },
    {
      "cell_type": "code",
      "execution_count": null,
      "metadata": {
        "id": "YE1x5qv-hka3"
      },
      "outputs": [],
      "source": [
        "palm.configure(api_key='PALM_KEY')"
      ]
    },
    {
      "cell_type": "markdown",
      "metadata": {
        "id": "G2dk6P3nJz6m"
      },
      "source": [
        "## Text generation\n",
        "\n",
        "Use the `palm.list_models` function to find available models:"
      ]
    },
    {
      "cell_type": "code",
      "execution_count": null,
      "metadata": {
        "id": "dKLCxpTw_C2Q"
      },
      "outputs": [
        {
          "name": "stdout",
          "output_type": "stream",
          "text": [
            "models/text-bison-001\n"
          ]
        }
      ],
      "source": [
        "models = [m for m in palm.list_models() if 'generateText' in m.supported_generation_methods]\n",
        "model = models[0].name\n",
        "print(model)"
      ]
    },
    {
      "cell_type": "markdown",
      "metadata": {
        "id": "9OvvPDyVvb4X"
      },
      "source": [
        "Use the `palm.generate_text` method to generate text:"
      ]
    },
    {
      "cell_type": "code",
      "execution_count": null,
      "metadata": {
        "id": "sJm90x7J6YLe"
      },
      "outputs": [
        {
          "name": "stdout",
          "output_type": "stream",
          "text": [
            "There are 3 houses * 3 cats / house = 9 cats.\n",
            "There are 9 cats * 4 mittens / cat = 36 mittens.\n",
            "There are 9 cats * 1 hat / cat = 9 hats.\n",
            "The total amount of yarn needed for the mittens is 36 mittens * 7m / mitten = 252m.\n",
            "The total amount of yarn needed for the hats is 9 hats * 4m / hat = 36m.\n",
            "The total amount of yarn needed is 252m + 36m = 288m.\n",
            "So the answer is 288\n"
          ]
        }
      ],
      "source": [
        "prompt = \"\"\"\n",
        "I have three houses, each with three cats.\n",
        "each cat owns 4 mittens, and a hat. Each mitten was\n",
        "knit from 7m of yarn, each hat from 4m.\n",
        "How much yarn was needed to make all the items?\n",
        "\n",
        "Think about it step by step, and show your work.\n",
        "\"\"\"\n",
        "\n",
        "completion = palm.generate_text(\n",
        "    model=model,\n",
        "    prompt=prompt,\n",
        "    # The maximum length of the response\n",
        "    max_output_tokens=800,\n",
        ")\n",
        "\n",
        "print(completion.result)"
      ]
    },
    {
      "cell_type": "markdown",
      "metadata": {
        "id": "QSm0sZxAP4QC"
      },
      "source": [
        "## More options\n",
        "\n",
        "Typically, there's some degree of randomness in the text produced by LLMs. (Read more about why in the [LLM primer](https://developers.generativeai.google/guide/concepts)). That means that when you call the API more than once with the same input, you might get different responses. You can use this feature to your advantage to get alternate model responses.\n",
        "\n",
        "The `temperature` argument controls the variance of the responses. The `palm.Model` object gives the default value for `temperature` and other parameters."
      ]
    },
    {
      "cell_type": "code",
      "execution_count": null,
      "metadata": {
        "id": "s6doS7vAvxz8"
      },
      "outputs": [
        {
          "data": {
            "text/plain": [
              "Model(name='models/text-bison-001', base_model_id='', version='001', display_name='Text Bison', description='Model targeted for text generation.', input_token_limit=4000, output_token_limit=1024, supported_generation_methods=['generateText'], temperature=0.7, top_p=0.95, top_k=40)"
            ]
          },
          "execution_count": 176,
          "metadata": {},
          "output_type": "execute_result"
        }
      ],
      "source": [
        "models[0]"
      ]
    },
    {
      "cell_type": "markdown",
      "metadata": {
        "id": "GYJbWwzXwXiD"
      },
      "source": [
        "The `candidate_count` argument controls the number of responses returned:"
      ]
    },
    {
      "cell_type": "code",
      "execution_count": null,
      "metadata": {
        "id": "NCvc78t-ROrL"
      },
      "outputs": [
        {
          "name": "stdout",
          "output_type": "stream",
          "text": [
            "There are 3 * 3 = 9 cats. 9 cats have 9 * 4 = 36 mittens. 36 mittens are made of 36 * 7 = 252m of yarn. There are also 9 hats which require 9 * 4 = 36m of yarn. Therefore, a total of 252 + 36 = 288m of yarn was used.\n",
            "So the answer is 288\n"
          ]
        }
      ],
      "source": [
        "completion = palm.generate_text(\n",
        "    model=model,\n",
        "    prompt=prompt,\n",
        "    # The number of candidates to return\n",
        "    candidate_count=8,\n",
        "    # Set the temperature to 1.0 for more variety of responses.\n",
        "    temperature=1.0,\n",
        "    max_output_tokens=800,\n",
        ")\n",
        "\n",
        "print(completion.result)"
      ]
    },
    {
      "cell_type": "markdown",
      "metadata": {
        "id": "2lXu8iu0Mm3V"
      },
      "source": [
        "When you request multiple candidates the `Completion.result` attribute still just contains the first one. The `Completion.candidates` attribute contains all of them:"
      ]
    },
    {
      "cell_type": "code",
      "execution_count": null,
      "metadata": {
        "id": "nJEjPHGVMPaj"
      },
      "outputs": [
        {
          "name": "stdout",
          "output_type": "stream",
          "text": [
            "[{'output': 'There are 3 * 3 = 9 cats. 9 cats have 9 * 4 = 36 mittens. 36 '\n",
            "            'mittens are made of 36 * 7 = 252m of yarn. There are also 9 hats '\n",
            "            'which require 9 * 4 = 36m of yarn. Therefore, a total of 252 + 36 '\n",
            "            '= 288m of yarn was used.\\n'\n",
            "            'So the answer is 288'},\n",
            " {'output': 'There are 3 houses * 3 cats = 9 cats.\\n'\n",
            "            'So, there were 9 cats * 4 mittens = 36 mittens.\\n'\n",
            "            'And there were 9 cats * 1 hat = 9 hats.\\n'\n",
            "            'The mittens needed 36 mittens * 7m of yarn = 252m of yarn.\\n'\n",
            "            'And the hats needed 9 hats * 4m of yarn = 36m of yarn.\\n'\n",
            "            'So in total, 252m + 36m = 288m of yarn were needed.\\n'\n",
            "            'So the answer is 288'},\n",
            " {'output': 'There are a total of 3 * 3 = 9 cats.\\n'\n",
            "            'Each cat has 4 mittens so there are 9 * 4 = 36 mittens.\\n'\n",
            "            'Each hat uses 4 meters of yarn so all the hats take 36 * 4 = 144 '\n",
            "            'meters of yarn.\\n'\n",
            "            'Each mitten uses 7 meters of yarn so all the mittens take 36 * 7 '\n",
            "            '= 252 meters of yarn.\\n'\n",
            "            'In total, the project needs 252 + 144 = 396 meters of yarn.\\n'\n",
            "            'So the answer is 396'},\n",
            " {'output': 'In total, there are 3 * 3 = 9 cats.\\n'\n",
            "            'Each cat has 4 mittens, so in total there are 9 * 4 = 36 '\n",
            "            'mittens.\\n'\n",
            "            'Each mitten takes 7m of yarn, so in total, all the mittens '\n",
            "            'required 36 * 7 = 252m of yarn.\\n'\n",
            "            'Each cat has a hat, so in total there are 9 * 1 = 9 hats.\\n'\n",
            "            'Each hat takes 4m of yarn, so in total, all the hats required 9 * '\n",
            "            '4 = 36m of yarn.\\n'\n",
            "            'In total, the entire project required 252m + 36m = 288m of yarn.\\n'\n",
            "            '\\n'\n",
            "            'So, the answer is 288'},\n",
            " {'output': 'There are 3 houses * 3 cats / house = 9 cats.\\n'\n",
            "            'There are 9 cats * 4 mittens / cat = 36 mittens.\\n'\n",
            "            'There are 9 cats * 1 hat / cat = 9 hats.\\n'\n",
            "            'It took 36 mittens * 7m / mitten = 252m of yarn for the mittens.\\n'\n",
            "            'It took 9 hats * 4m / hat = 36m of yarn for the hats.\\n'\n",
            "            'In total, 36m + 252m = 288m of yarn was needed.\\n'\n",
            "            'So the answer is 288'},\n",
            " {'output': 'There are 3 * 3 = 9 cats in total.\\n'\n",
            "            'Each cat needs 4 mittens, so in total 9 * 4 = 36 mittens were '\n",
            "            'needed.\\n'\n",
            "            'Each mitten needs 7m of yarn, so in total 36 * 7 = 252m of yarn '\n",
            "            'was needed for mittens.\\n'\n",
            "            'Each cat needs 1 hat, so in total 9 * 1 = 9 hats were needed.\\n'\n",
            "            'Each hat needs 4m of yarn, so in total 9 * 4 = 36m of yarn was '\n",
            "            'needed for hats.\\n'\n",
            "            'In total 252m + 36m = 288m of yarn was needed.\\n'\n",
            "            'So the answer is 288'},\n",
            " {'output': 'First, find the total number of cats: 3 houses * 3 cats / house = '\n",
            "            '9 cats. Then find the total number of mittens: 9 cats * 4 mittens '\n",
            "            '/ cat = 36 mittens. Then find the total number of hats: 9 cats * '\n",
            "            '1 hat / cat = 9 hats. Then find the total length of yarn needed '\n",
            "            'for the mittens: 36 mittens * 7 meters / mitten = 252 meters. '\n",
            "            'Then find the total length of yarn needed for the hats: 9 hats * '\n",
            "            '4 meters / hat = 36 meters. Then add the lengths of yarn needed '\n",
            "            'for the mittens and hats to find the total length of yarn needed: '\n",
            "            '252 meters + 36 meters = 288 meters.\\n'\n",
            "            'So the final answer is 288'},\n",
            " {'output': 'Chain-of-thought:\\n'\n",
            "            'First find the total number of cats: 3 houses * 3 cats / house = '\n",
            "            '9 cats.\\n'\n",
            "            'Then find the total number of mittens: 9 cats * 4 mittens / cat = '\n",
            "            '36 mittens.\\n'\n",
            "            'Then find the total amount of yarn needed for the mittens: 36 '\n",
            "            'mittens * 7m / mitten = 252m.\\n'\n",
            "            'Then find the total number of hats: 9 cats * 1 hat / cat = 9 '\n",
            "            'hats.\\n'\n",
            "            'Then find the total amount of yarn needed for the hats: 9 hats * '\n",
            "            '4m / hat = 36m.\\n'\n",
            "            'Then add the amount of yarn needed for the mittens and the hats '\n",
            "            'to find the total amount: 252m + 36m = 288m.\\n'\n",
            "            '\\n'\n",
            "            'The answer should be 288'}]\n"
          ]
        }
      ],
      "source": [
        "import pprint\n",
        "pprint.pprint(completion.candidates)"
      ]
    },
    {
      "cell_type": "code",
      "execution_count": null,
      "metadata": {
        "id": "xJh2LRHhxQ6k"
      },
      "outputs": [
        {
          "data": {
            "text/plain": [
              "0.875"
            ]
          },
          "execution_count": 179,
          "metadata": {},
          "output_type": "execute_result"
        }
      ],
      "source": [
        "import numpy as np\n",
        "np.mean(['288' in c['output'] for c in completion.candidates])"
      ]
    }
  ],
  "metadata": {
    "colab": {
      "name": "text_quickstart.ipynb",
      "toc_visible": true
    },
    "kernelspec": {
      "display_name": "Python 3",
      "name": "python3"
    }
  },
  "nbformat": 4,
  "nbformat_minor": 0
}
